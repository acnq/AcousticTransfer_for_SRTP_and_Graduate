{
 "cells": [
  {
   "cell_type": "markdown",
   "metadata": {},
   "source": [
    "# A scratch of how to coding:"
   ]
  },
  {
   "cell_type": "markdown",
   "metadata": {},
   "source": [
    "first  import the package needed"
   ]
  },
  {
   "cell_type": "code",
   "execution_count": 7,
   "metadata": {},
   "outputs": [],
   "source": [
    "import scipy.linalg\n",
    "import numpy as np"
   ]
  },
  {
   "cell_type": "markdown",
   "metadata": {},
   "source": [
    "Add macro:  \n",
    "$\\rho$: the density of air in $kg/m^3$   \n",
    "$\\Omega$: the specified frequency in Hz, a constant if modal is specified  \n",
    "$c$: the velocity of sound in the air in $m/s$  "
   ]
  },
  {
   "cell_type": "code",
   "execution_count": 8,
   "metadata": {},
   "outputs": [],
   "source": [
    "## macro:\n",
    "RHO = 1.2041\n",
    "OMEGA = 2\n",
    "c = 340 "
   ]
  },
  {
   "cell_type": "markdown",
   "metadata": {},
   "source": [
    "function1:  \n",
    "construct the right hand side of the linear system  \n",
    "API: \n",
    "`construct_RHS(u_sam, n_x, omega=OMEGA):`  \n",
    "where:  \n",
    "&ensp; u_sam: the displacement of the sampling point in the boundary  \n",
    "&ensp; n_x: the boundary normal vector of the sampling point  \n",
    "&ensp; omega: the frequency of the specified modal  \n",
    "    \n"
   ]
  },
  {
   "cell_type": "markdown",
   "metadata": {},
   "source": [
    "![sources from the course note](./assets/printscreen1.png)"
   ]
  },
  {
   "cell_type": "markdown",
   "metadata": {},
   "source": [
    "we need to construct $M$ term of \n",
    "$$\n",
    "    \\rho \\omega^2 \\bar{u}_n (\\bold{x}_1)\n",
    "$$\n"
   ]
  },
  {
   "cell_type": "code",
   "execution_count": 9,
   "metadata": {},
   "outputs": [],
   "source": [
    "def construct_rhs(u_sam, n_x, omega=OMEGA):\n",
    "    a = (u_sam * n_x).sum(axis=1)\n",
    "    rhs = RHO * omega **2 * a"
   ]
  },
  {
   "cell_type": "markdown",
   "metadata": {},
   "source": [
    "now consider the coeffiencts matrix\n",
    "$$\n",
    "    \\frac{\\partial \\psi}{\\partial n}(\\bold{x}_M)\n",
    "$$"
   ]
  },
  {
   "cell_type": "markdown",
   "metadata": {},
   "source": [
    "where \n"
   ]
  },
  {
   "cell_type": "code",
   "execution_count": 12,
   "metadata": {},
   "outputs": [
    {
     "data": {
      "text/plain": [
       "array([0., 0., 0.])"
      ]
     },
     "execution_count": 12,
     "metadata": {},
     "output_type": "execute_result"
    }
   ],
   "source": [
    "R = np.zeros(3)\n",
    "R"
   ]
  },
  {
   "cell_type": "code",
   "execution_count": null,
   "metadata": {},
   "outputs": [],
   "source": []
  }
 ],
 "metadata": {
  "interpreter": {
   "hash": "e922dd073470bdcc017ae3abd31d6491d6ed7bf31c1d559806e5511bfea88b81"
  },
  "kernelspec": {
   "display_name": "Python 3.8.9 64-bit",
   "language": "python",
   "name": "python3"
  },
  "language_info": {
   "codemirror_mode": {
    "name": "ipython",
    "version": 3
   },
   "file_extension": ".py",
   "mimetype": "text/x-python",
   "name": "python",
   "nbconvert_exporter": "python",
   "pygments_lexer": "ipython3",
   "version": "3.6.13"
  },
  "orig_nbformat": 4
 },
 "nbformat": 4,
 "nbformat_minor": 2
}
